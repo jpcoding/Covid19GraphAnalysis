{
 "cells": [
  {
   "cell_type": "code",
   "execution_count": 29,
   "metadata": {},
   "outputs": [],
   "source": [
    "# Date 2020-04-02\n",
    "import pandas as pd\n",
    "url = 'https://github.com/COVIDExposureIndices/COVIDExposureIndices/blob/master/lex_data/county_lex_2020-04-02.csv.gz?raw=true'\n",
    "df \t= pd.read_csv(url, compression='gzip', header=0)\n",
    "countys = df.columns.values[1:]\n",
    "col_names = dict(zip(countys, [\"a\" + lab for lab in countys]  ))\n",
    "df \t= df.rename(columns = col_names)\n",
    "df_long\t= pd.wide_to_long(df, stubnames=\"a\", i=['COUNTY_PRE'], j='col')\n",
    "df_long = df_long.reset_index(drop=False)\n",
    "df_long = df_long.rename(columns = {\"col\" : \"COUNTY\", \"a\" : \"LEX\"})\n",
    "## delete self and small lex \n",
    "index_del = df_long.index[(df_long['COUNTY_PRE'] == df_long[\"COUNTY\"])|(df_long['LEX']<=0.1)].tolist()\n",
    "print(df_long.shape)\n",
    "print(df_long.drop(index_del).shape)\n",
    "dfout = df_long.drop(index_del)\n",
    "dfout.to_csv(r'dfout20200402.csv',index=False)"
   ]
  },
  {
   "cell_type": "code",
   "execution_count": 40,
   "metadata": {},
   "outputs": [
    {
     "name": "stdout",
     "output_type": "stream",
     "text": [
      "(4072324, 3)\n",
      "(8111, 3)\n"
     ]
    }
   ],
   "source": [
    "# Date 2020-03-29\n",
    "date = '2020-03-29'\n",
    "import pandas as pd\n",
    "url = 'https://github.com/COVIDExposureIndices/COVIDExposureIndices/blob/master/lex_data/county_lex_'+date+'.csv.gz?raw=true'\n",
    "df \t= pd.read_csv(url, compression='gzip', header=0)\n",
    "countys = df.columns.values[1:]\n",
    "col_names = dict(zip(countys, [\"a\" + lab for lab in countys]  ))\n",
    "df \t= df.rename(columns = col_names)\n",
    "df_long\t= pd.wide_to_long(df, stubnames=\"a\", i=['COUNTY_PRE'], j='col')\n",
    "df_long = df_long.reset_index(drop=False)\n",
    "df_long = df_long.rename(columns = {\"col\" : \"COUNTY\", \"a\" : \"LEX\"})\n",
    "## delete self and small lex \n",
    "index_del = df_long.index[(df_long['COUNTY_PRE'] == df_long[\"COUNTY\"])|(df_long['LEX']<=0.1)].tolist()\n",
    "print(df_long.shape)\n",
    "print(df_long.drop(index_del).shape)\n",
    "dfout = df_long.drop(index_del)\n",
    "dfout.to_csv(r'dfout2020-04-09.csv',index=False)"
   ]
  },
  {
   "cell_type": "code",
   "execution_count": 43,
   "metadata": {},
   "outputs": [
    {
     "name": "stdout",
     "output_type": "stream",
     "text": [
      "(4072324, 3)\n",
      "(9388, 3)\n"
     ]
    }
   ],
   "source": [
    "# Date 2020-04-02\n",
    "date = '2020-03-22'\n",
    "import pandas as pd\n",
    "url = 'https://github.com/COVIDExposureIndices/COVIDExposureIndices/blob/master/lex_data/county_lex_'+date+'.csv.gz?raw=true'\n",
    "df \t= pd.read_csv(url, compression='gzip', header=0)\n",
    "countys = df.columns.values[1:]\n",
    "col_names = dict(zip(countys, [\"a\" + lab for lab in countys]  ))\n",
    "df \t= df.rename(columns = col_names)\n",
    "df_long\t= pd.wide_to_long(df, stubnames=\"a\", i=['COUNTY_PRE'], j='col')\n",
    "df_long = df_long.reset_index(drop=False)\n",
    "df_long = df_long.rename(columns = {\"col\" : \"COUNTY\", \"a\" : \"LEX\"})\n",
    "## delete self and small lex \n",
    "index_del = df_long.index[(df_long['COUNTY_PRE'] == df_long[\"COUNTY\"])|(df_long['LEX']<=0.1)].tolist()\n",
    "print(df_long.shape)\n",
    "print(df_long.drop(index_del).shape)\n",
    "dfout = df_long.drop(index_del)\n",
    "filename= 'case'+date+'.csv'\n",
    "dfout.to_csv(filename,index=False)"
   ]
  },
  {
   "cell_type": "code",
   "execution_count": 44,
   "metadata": {},
   "outputs": [
    {
     "name": "stdout",
     "output_type": "stream",
     "text": [
      "(4072324, 3)\n",
      "(8111, 3)\n"
     ]
    }
   ],
   "source": [
    "# Date 2020-04-02\n",
    "date = '2020-03-29'\n",
    "import pandas as pd\n",
    "url = 'https://github.com/COVIDExposureIndices/COVIDExposureIndices/blob/master/lex_data/county_lex_'+date+'.csv.gz?raw=true'\n",
    "df \t= pd.read_csv(url, compression='gzip', header=0)\n",
    "countys = df.columns.values[1:]\n",
    "col_names = dict(zip(countys, [\"a\" + lab for lab in countys]  ))\n",
    "df \t= df.rename(columns = col_names)\n",
    "df_long\t= pd.wide_to_long(df, stubnames=\"a\", i=['COUNTY_PRE'], j='col')\n",
    "df_long = df_long.reset_index(drop=False)\n",
    "df_long = df_long.rename(columns = {\"col\" : \"COUNTY\", \"a\" : \"LEX\"})\n",
    "## delete self and small lex \n",
    "index_del = df_long.index[(df_long['COUNTY_PRE'] == df_long[\"COUNTY\"])|(df_long['LEX']<=0.1)].tolist()\n",
    "print(df_long.shape)\n",
    "print(df_long.drop(index_del).shape)\n",
    "dfout = df_long.drop(index_del)\n",
    "filename= 'case'+date+'.csv'\n",
    "dfout.to_csv(filename,index=False)"
   ]
  },
  {
   "cell_type": "code",
   "execution_count": 53,
   "metadata": {},
   "outputs": [
    {
     "name": "stdout",
     "output_type": "stream",
     "text": [
      "(4072324, 3)\n",
      "(11549, 3)\n"
     ]
    }
   ],
   "source": [
    "# Date 2020-04-02\n",
    "date = '2020-03-08'\n",
    "import pandas as pd\n",
    "url = 'https://github.com/COVIDExposureIndices/COVIDExposureIndices/blob/master/lex_data/county_lex_'+date+'.csv.gz?raw=true'\n",
    "df \t= pd.read_csv(url, compression='gzip', header=0)\n",
    "countys = df.columns.values[1:]\n",
    "col_names = dict(zip(countys, [\"a\" + lab for lab in countys]  ))\n",
    "df \t= df.rename(columns = col_names)\n",
    "df_long\t= pd.wide_to_long(df, stubnames=\"a\", i=['COUNTY_PRE'], j='col')\n",
    "df_long = df_long.reset_index(drop=False)\n",
    "df_long = df_long.rename(columns = {\"col\" : \"COUNTY\", \"a\" : \"LEX\"})\n",
    "## delete self and small lex \n",
    "index_del = df_long.index[(df_long['COUNTY_PRE'] == df_long[\"COUNTY\"])|(df_long['LEX']<=0.1)].tolist()\n",
    "print(df_long.shape)\n",
    "print(df_long.drop(index_del).shape)\n",
    "dfout = df_long.drop(index_del)\n",
    "filename= 'LEX'+date+'.csv'\n",
    "dfout.to_csv(filename,index=False)"
   ]
  },
  {
   "cell_type": "code",
   "execution_count": null,
   "metadata": {},
   "outputs": [],
   "source": []
  }
 ],
 "metadata": {
  "kernelspec": {
   "display_name": "Python 3",
   "language": "python",
   "name": "python3"
  },
  "language_info": {
   "codemirror_mode": {
    "name": "ipython",
    "version": 3
   },
   "file_extension": ".py",
   "mimetype": "text/x-python",
   "name": "python",
   "nbconvert_exporter": "python",
   "pygments_lexer": "ipython3",
   "version": "3.7.6"
  }
 },
 "nbformat": 4,
 "nbformat_minor": 4
}
