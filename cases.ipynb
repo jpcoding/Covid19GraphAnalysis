{
 "cells": [
  {
   "cell_type": "code",
   "execution_count": 38,
   "metadata": {},
   "outputs": [],
   "source": [
    "import pandas as pd\n",
    "\n",
    "df = pd.read_csv('https://raw.githubusercontent.com/nytimes/covid-19-data/master/us-counties.csv')\n"
   ]
  },
  {
   "cell_type": "code",
   "execution_count": 39,
   "metadata": {},
   "outputs": [
    {
     "name": "stdout",
     "output_type": "stream",
     "text": [
      "<class 'pandas.core.frame.DataFrame'>\n",
      "RangeIndex: 59249 entries, 0 to 59248\n",
      "Data columns (total 6 columns):\n",
      " #   Column  Non-Null Count  Dtype  \n",
      "---  ------  --------------  -----  \n",
      " 0   date    59249 non-null  object \n",
      " 1   county  59249 non-null  object \n",
      " 2   state   59249 non-null  object \n",
      " 3   fips    58472 non-null  float64\n",
      " 4   cases   59249 non-null  int64  \n",
      " 5   deaths  59249 non-null  int64  \n",
      "dtypes: float64(1), int64(2), object(3)\n",
      "memory usage: 2.7+ MB\n"
     ]
    }
   ],
   "source": [
    "df.info()"
   ]
  },
  {
   "cell_type": "code",
   "execution_count": 9,
   "metadata": {},
   "outputs": [],
   "source": [
    "## Data 2020-04-02\n",
    "index = df.index[(df['date']=='2020-04-02')&(df['fips']>0)].tolist()\n",
    "case20200402 = df.loc[index,]\n",
    "case20200402= case20200402.astype({'fips': 'int64'})\n",
    "case20200402.to_csv(r'case2020-04-02.csv',index=False)\n",
    "case20200402.info()"
   ]
  },
  {
   "cell_type": "code",
   "execution_count": 47,
   "metadata": {},
   "outputs": [
    {
     "name": "stdout",
     "output_type": "stream",
     "text": [
      "<class 'pandas.core.frame.DataFrame'>\n",
      "Int64Index: 2413 entries, 33249 to 35691\n",
      "Data columns (total 6 columns):\n",
      " #   Column  Non-Null Count  Dtype \n",
      "---  ------  --------------  ----- \n",
      " 0   date    2413 non-null   object\n",
      " 1   county  2413 non-null   object\n",
      " 2   state   2413 non-null   object\n",
      " 3   fips    2413 non-null   int64 \n",
      " 4   cases   2413 non-null   int64 \n",
      " 5   deaths  2413 non-null   int64 \n",
      "dtypes: int64(3), object(3)\n",
      "memory usage: 132.0+ KB\n",
      "<class 'pandas.core.frame.DataFrame'>\n",
      "Int64Index: 25 entries, 398 to 424\n",
      "Data columns (total 6 columns):\n",
      " #   Column  Non-Null Count  Dtype \n",
      "---  ------  --------------  ----- \n",
      " 0   date    25 non-null     object\n",
      " 1   county  25 non-null     object\n",
      " 2   state   25 non-null     object\n",
      " 3   fips    25 non-null     int64 \n",
      " 4   cases   25 non-null     int64 \n",
      " 5   deaths  25 non-null     int64 \n",
      "dtypes: int64(3), object(3)\n",
      "memory usage: 1.4+ KB\n",
      "<class 'pandas.core.frame.DataFrame'>\n",
      "Int64Index: 111 entries, 750 to 862\n",
      "Data columns (total 6 columns):\n",
      " #   Column  Non-Null Count  Dtype \n",
      "---  ------  --------------  ----- \n",
      " 0   date    111 non-null    object\n",
      " 1   county  111 non-null    object\n",
      " 2   state   111 non-null    object\n",
      " 3   fips    111 non-null    int64 \n",
      " 4   cases   111 non-null    int64 \n",
      " 5   deaths  111 non-null    int64 \n",
      "dtypes: int64(3), object(3)\n",
      "memory usage: 6.1+ KB\n",
      "<class 'pandas.core.frame.DataFrame'>\n",
      "Int64Index: 423 entries, 2309 to 2737\n",
      "Data columns (total 6 columns):\n",
      " #   Column  Non-Null Count  Dtype \n",
      "---  ------  --------------  ----- \n",
      " 0   date    423 non-null    object\n",
      " 1   county  423 non-null    object\n",
      " 2   state   423 non-null    object\n",
      " 3   fips    423 non-null    int64 \n",
      " 4   cases   423 non-null    int64 \n",
      " 5   deaths  423 non-null    int64 \n",
      "dtypes: int64(3), object(3)\n",
      "memory usage: 23.1+ KB\n",
      "<class 'pandas.core.frame.DataFrame'>\n",
      "Int64Index: 1118 entries, 7116 to 8253\n",
      "Data columns (total 6 columns):\n",
      " #   Column  Non-Null Count  Dtype \n",
      "---  ------  --------------  ----- \n",
      " 0   date    1118 non-null   object\n",
      " 1   county  1118 non-null   object\n",
      " 2   state   1118 non-null   object\n",
      " 3   fips    1118 non-null   int64 \n",
      " 4   cases   1118 non-null   int64 \n",
      " 5   deaths  1118 non-null   int64 \n",
      "dtypes: int64(3), object(3)\n",
      "memory usage: 61.1+ KB\n",
      "<class 'pandas.core.frame.DataFrame'>\n",
      "Int64Index: 1956 entries, 17731 to 19713\n",
      "Data columns (total 6 columns):\n",
      " #   Column  Non-Null Count  Dtype \n",
      "---  ------  --------------  ----- \n",
      " 0   date    1956 non-null   object\n",
      " 1   county  1956 non-null   object\n",
      " 2   state   1956 non-null   object\n",
      " 3   fips    1956 non-null   int64 \n",
      " 4   cases   1956 non-null   int64 \n",
      " 5   deaths  1956 non-null   int64 \n",
      "dtypes: int64(3), object(3)\n",
      "memory usage: 107.0+ KB\n"
     ]
    }
   ],
   "source": [
    "## Data 2020-04-09\n",
    "datelist = ['2020-04-05','2020-03-01','2020-03-08','2020-03-15','2020-03-22','2020-03-29']\n",
    "for date in datelist:\n",
    "    index = df.index[(df['date']==date)&(df['fips']>0)].tolist()\n",
    "    case= df.loc[index,]\n",
    "    case= case.astype({'fips': 'int64'})\n",
    "    filename= 'case'+date+'.csv'\n",
    "    case.to_csv(filename,index=False)\n",
    "    case.info()"
   ]
  },
  {
   "cell_type": "code",
   "execution_count": 22,
   "metadata": {},
   "outputs": [],
   "source": []
  }
 ],
 "metadata": {
  "kernelspec": {
   "display_name": "Python 3",
   "language": "python",
   "name": "python3"
  },
  "language_info": {
   "codemirror_mode": {
    "name": "ipython",
    "version": 3
   },
   "file_extension": ".py",
   "mimetype": "text/x-python",
   "name": "python",
   "nbconvert_exporter": "python",
   "pygments_lexer": "ipython3",
   "version": "3.7.6"
  }
 },
 "nbformat": 4,
 "nbformat_minor": 4
}
